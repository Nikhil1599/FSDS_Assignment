{
 "cells": [
  {
   "cell_type": "markdown",
   "id": "41b1d279",
   "metadata": {},
   "source": [
    "# Programming Assignment 15"
   ]
  },
  {
   "cell_type": "markdown",
   "id": "fb1ce0a0",
   "metadata": {},
   "source": [
    "### 1. Please write a program using generator to print the numbers which can be divisible by 5 and 7 between 0 and n in comma separated form while n is input by console ?"
   ]
  },
  {
   "cell_type": "markdown",
   "id": "214741d1",
   "metadata": {},
   "source": [
    "    Example:\n",
    "    If the following n is given as input to the program: 100\n",
    "    Then, the output of the program should be: 0,35,70"
   ]
  },
  {
   "cell_type": "code",
   "execution_count": 7,
   "id": "ad162a8d",
   "metadata": {},
   "outputs": [
    {
     "name": "stdout",
     "output_type": "stream",
     "text": [
      "0 35 70 "
     ]
    }
   ],
   "source": [
    "def showDivisible(in_num):\n",
    "    for ele in range(0,in_num):\n",
    "        if (ele%5 == 0) and (ele%7 == 0):\n",
    "            yield ele\n",
    "for ele in showDivisible(100):\n",
    "    print(ele,end=' ')"
   ]
  },
  {
   "cell_type": "markdown",
   "id": "c400d52c",
   "metadata": {},
   "source": [
    "### 2.Please write a program using generator to print the even numbers between 0 and n in comma separated form while n is input by console ?"
   ]
  },
  {
   "cell_type": "markdown",
   "id": "0df1ddac",
   "metadata": {},
   "source": [
    "    Example:\n",
    "    If the following n is given as input to the program: 10\n",
    "    Then, the output of the program should be: 0,2,4,6,8,10"
   ]
  },
  {
   "cell_type": "code",
   "execution_count": 8,
   "id": "b7a92256",
   "metadata": {},
   "outputs": [
    {
     "name": "stdout",
     "output_type": "stream",
     "text": [
      "0 2 4 6 8 10 "
     ]
    }
   ],
   "source": [
    "def genEvenNumbers(in_num):\n",
    "    for ele in range(in_num+1):\n",
    "        if ele%2 == 0:\n",
    "            yield ele\n",
    "\n",
    "for ele in genEvenNumbers(10):\n",
    "    print(ele,end=' ')"
   ]
  },
  {
   "cell_type": "markdown",
   "id": "abd24610",
   "metadata": {},
   "source": [
    "### 3.The Fibonacci Sequence is computed based on the following formula below, Please write a program using list comprehension to print the Fibonacci Sequence in comma separated form with a given n input by console ?"
   ]
  },
  {
   "cell_type": "markdown",
   "id": "5adc37d7",
   "metadata": {},
   "source": [
    "f(n)=0 if n=0 f(n)=1 if n=1 f(n)=f(n-1)+f(n-2) if n>1"
   ]
  },
  {
   "cell_type": "code",
   "execution_count": 9,
   "id": "eb02c5e9",
   "metadata": {},
   "outputs": [
    {
     "name": "stdout",
     "output_type": "stream",
     "text": [
      "[0, 1, 1, 2, 3, 5, 8, 13, 21, 34, 55, 89, 144, 233, 377, 610, 987, 1597, 2584, 4181]\n"
     ]
    }
   ],
   "source": [
    "def genFibonaci(in_num):\n",
    "    if in_num == 0:\n",
    "        return 0\n",
    "    elif in_num == 1:\n",
    "        return 1\n",
    "    else:\n",
    "        return genFibonaci(in_num-1)+genFibonaci(in_num-2)\n",
    "    \n",
    "print([genFibonaci(x) for x in range(20)])"
   ]
  },
  {
   "cell_type": "markdown",
   "id": "dff8609e",
   "metadata": {},
   "source": [
    "### 4.Assuming that we have some email addresses in the \"username@companyname.com\" format, please write program to print the user name of a given email address. Both user names and company names are composed of letters only ?"
   ]
  },
  {
   "cell_type": "markdown",
   "id": "37429a00",
   "metadata": {},
   "source": [
    "    Example:\n",
    "    If the following email address is given as input to the program: john@google.com\n",
    "    Then, the output of the program should be: john"
   ]
  },
  {
   "cell_type": "code",
   "execution_count": 10,
   "id": "d4aeaedf",
   "metadata": {},
   "outputs": [
    {
     "name": "stdout",
     "output_type": "stream",
     "text": [
      "Enter Email Address(es): nikhilsingh0745@gmail.com\n",
      "Username of nikhilsingh0745@gmail.com is nikhilsingh0745\n",
      "Enter Email Address(es): nikhil0913singh@outlook.com\n",
      "Username of nikhil0913singh@outlook.com is nikhil0913singh\n",
      "Enter Email Address(es): singhnikhil103@yahoo.com\n",
      "Username of singhnikhil103@yahoo.com is singhnikhil103\n"
     ]
    }
   ],
   "source": [
    "def getUsernames():\n",
    "    in_string = input('Enter Email Address(es): ')\n",
    "    out_string = in_string.split('@')\n",
    "    print(f'Username of {in_string} is {out_string[0]}')\n",
    "\n",
    "for i in range(3):\n",
    "    getUsernames()"
   ]
  },
  {
   "cell_type": "markdown",
   "id": "1648daf4",
   "metadata": {},
   "source": [
    "### 5.Define a class named Shape and its subclass Square. The Square class has an init function which takes a length as argument. Both classes have a area function which can print the area of the shape where Shape's area is 0 by default."
   ]
  },
  {
   "cell_type": "code",
   "execution_count": 11,
   "id": "8dcfab53",
   "metadata": {},
   "outputs": [
    {
     "name": "stdout",
     "output_type": "stream",
     "text": [
      "2500\n"
     ]
    }
   ],
   "source": [
    "class Shape:\n",
    "    def area(self):\n",
    "        return 0\n",
    "\n",
    "class Square(Shape):\n",
    "    def __init__(self, length):\n",
    "        self.length = length\n",
    "    def area(self):\n",
    "        return self.length*self.length\n",
    "\n",
    "square = Square(50)\n",
    "print(square.area())"
   ]
  }
 ],
 "metadata": {
  "kernelspec": {
   "display_name": "Python 3 (ipykernel)",
   "language": "python",
   "name": "python3"
  },
  "language_info": {
   "codemirror_mode": {
    "name": "ipython",
    "version": 3
   },
   "file_extension": ".py",
   "mimetype": "text/x-python",
   "name": "python",
   "nbconvert_exporter": "python",
   "pygments_lexer": "ipython3",
   "version": "3.10.9"
  }
 },
 "nbformat": 4,
 "nbformat_minor": 5
}
