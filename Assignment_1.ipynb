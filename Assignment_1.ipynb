{
 "cells": [
  {
   "cell_type": "markdown",
   "id": "f6aef507",
   "metadata": {},
   "source": [
    "### 1. In the below elements which of them are values or an expression? eg:- values can be integer or string and expressions will be mathematical operators."
   ]
  },
  {
   "cell_type": "raw",
   "id": "ff20f8cc",
   "metadata": {},
   "source": [
    "# There are a total of 4 Operators and 3 Expressions, They are:\n",
    "a) Operators: *,-,/,+\n",
    "b) Expressions: 'hello'(String Val), -87.8(float), 6(int)"
   ]
  },
  {
   "cell_type": "markdown",
   "id": "7965fbdb",
   "metadata": {},
   "source": [
    "### 2. What is the difference between string and variable?"
   ]
  },
  {
   "cell_type": "raw",
   "id": "03cd4227",
   "metadata": {},
   "source": [
    "A Variable is used to store a data, and a String is data type, which is a type of information you would stored in a Variable. A String is a group of characters or a single character usually enclosed in double quotes \" \" or single quotes ' '"
   ]
  },
  {
   "cell_type": "markdown",
   "id": "696d8e81",
   "metadata": {},
   "source": [
    "### 3. Describe three different data types."
   ]
  },
  {
   "cell_type": "raw",
   "id": "eeb27258",
   "metadata": {},
   "source": [
    "a) INT data type: In this data type we store integer value to represent whole number\n",
    "b) Float data type: In this data type we store floating point value to represent decimal values\n",
    "c) String data type: this data type used to store a group of characters, it can be a numeric, special characters, alphabets."
   ]
  },
  {
   "cell_type": "code",
   "execution_count": 4,
   "id": "c79be2d2",
   "metadata": {},
   "outputs": [
    {
     "name": "stdout",
     "output_type": "stream",
     "text": [
      "15 <class 'int'>\n",
      "6900.0 <class 'float'>\n",
      "Nikhilesh <class 'str'>\n"
     ]
    }
   ],
   "source": [
    "# Example for int data type\n",
    "intnum=15\n",
    "print(intnum, type(intnum))\n",
    "# Example for float data type\n",
    "floatnum=6.9e3\n",
    "print(floatnum, type(floatnum))\n",
    "# Example for Complex data type\n",
    "strval = \"Nikhilesh\"\n",
    "print(strval, type(strval))"
   ]
  },
  {
   "cell_type": "markdown",
   "id": "ddf6c00c",
   "metadata": {},
   "source": [
    "### 4. What is an expression made up of? What do all expressions do?"
   ]
  },
  {
   "cell_type": "raw",
   "id": "75ba5466",
   "metadata": {},
   "source": [
    "An expression is a combination of operators and operands which is interpreted to produce the some other value."
   ]
  },
  {
   "cell_type": "code",
   "execution_count": 6,
   "id": "fc4d6674",
   "metadata": {},
   "outputs": [
    {
     "data": {
      "text/plain": [
       "55"
      ]
     },
     "execution_count": 6,
     "metadata": {},
     "output_type": "execute_result"
    }
   ],
   "source": [
    "15*5+20-40 # In this Expression the python interpreter evaluates the result 55"
   ]
  },
  {
   "cell_type": "markdown",
   "id": "f1d3d47e",
   "metadata": {},
   "source": [
    "### 5. This assignment statements, like spam = 10. What is the difference between an expression and a statement?"
   ]
  },
  {
   "cell_type": "raw",
   "id": "5e0c8c8d",
   "metadata": {},
   "source": [
    "The expression is a combination of values, variables, and the operators.Whenever we type an expression at the prompt or ide, the interpreter evaluates the result of the expression, which means that it finds the value of the expression.\n",
    "\n",
    "eg: 15*5+20-40 is an example of a expression\n",
    "\n",
    "A statement is a group of code, like creating a new variable or displaying a value. When we type a statement, the interpreter executes it, which means that it does whatever the statement says.\n",
    "\n",
    "eg: declaring a variables and assignment are statements because they do not return any value"
   ]
  },
  {
   "cell_type": "code",
   "execution_count": 9,
   "id": "350381ae",
   "metadata": {},
   "outputs": [],
   "source": [
    "#Example:\n",
    "15*5+20-40 # Is an Expression\n",
    "MyName = 'Nikhilesh Singh' # Is a Statement"
   ]
  },
  {
   "cell_type": "markdown",
   "id": "c682f749",
   "metadata": {},
   "source": [
    "### 6.After running the following code, what does the variable bacon contain? \n",
    "bacon = 22\n",
    "bacon + 1"
   ]
  },
  {
   "cell_type": "raw",
   "id": "e1d4fe91",
   "metadata": {},
   "source": [
    "The variable bacon is set to 22. The expression bacon + 1 does not reassign the value in bacon (in other case if the expression is like bacon = bacon + 1 instead of bacon + 1)"
   ]
  },
  {
   "cell_type": "code",
   "execution_count": 10,
   "id": "d4ade086",
   "metadata": {},
   "outputs": [
    {
     "name": "stdout",
     "output_type": "stream",
     "text": [
      "First case:  22\n",
      "Second case:  23\n"
     ]
    }
   ],
   "source": [
    "# Example Case#1\n",
    "bacon=22\n",
    "bacon+1\n",
    "print(\"First case: \",bacon)\n",
    "\n",
    "#Example Case#2\n",
    "bacon=22\n",
    "bacon=bacon+1 \n",
    "print(\"Second case: \",bacon)\n"
   ]
  },
  {
   "cell_type": "markdown",
   "id": "17520a4a",
   "metadata": {},
   "source": [
    "### 7.What should the values of the following two terms be?\n",
    "'spam'+ 'spamspam'\n",
    "'spam' * 3"
   ]
  },
  {
   "cell_type": "raw",
   "id": "045e6103",
   "metadata": {},
   "source": [
    "Both expressions evaluate to the string 'spamspamspam'. In first case as the the expression follows String Concatentation and the second case the expression follows String Multiplication"
   ]
  },
  {
   "cell_type": "code",
   "execution_count": 11,
   "id": "17af5998",
   "metadata": {},
   "outputs": [
    {
     "name": "stdout",
     "output_type": "stream",
     "text": [
      "spamspamspam\n",
      "spamspamspam\n"
     ]
    }
   ],
   "source": [
    "print('spam'+'spamspam') # string concatenation\n",
    "print('spam'*3) # string multiplication"
   ]
  },
  {
   "cell_type": "markdown",
   "id": "5ada5e28",
   "metadata": {},
   "source": [
    "### 8. Why is eggs a valid variable name while 100 is invalid?"
   ]
  },
  {
   "cell_type": "raw",
   "id": "9adfe2d5",
   "metadata": {},
   "source": [
    "Ans) Variable names cannot begin with a number.\n",
    "-> The python rules for naming a variable are :\n",
    "a) Variable name must start with a letter or the underscore character.\n",
    "b) Variable name cannot start with a number.\n",
    "c) Variable name can only contain alpha-numeric characters and underscores (A-z, 0-9, & _ ).\n",
    "d) Variable names are case-sensitive (name, INEURON and ineuron are three different variables).\n",
    "e) The reserved words(keywords) cannot be used naming the variable."
   ]
  },
  {
   "cell_type": "code",
   "execution_count": 12,
   "id": "1b797335",
   "metadata": {},
   "outputs": [
    {
     "ename": "SyntaxError",
     "evalue": "cannot assign to literal (3634917690.py, line 2)",
     "output_type": "error",
     "traceback": [
      "\u001b[1;36m  Input \u001b[1;32mIn [12]\u001b[1;36m\u001b[0m\n\u001b[1;33m    100='hello' # Invalid Variable Initilization\u001b[0m\n\u001b[1;37m    ^\u001b[0m\n\u001b[1;31mSyntaxError\u001b[0m\u001b[1;31m:\u001b[0m cannot assign to literal\n"
     ]
    }
   ],
   "source": [
    "egg='Nikhilesh' # Valid variable Initilization\n",
    "100='hello' # Invalid Variable Initilization\n",
    "print(egg) # print the value of egg ie Nikhilesh\n",
    "print(100) # Raises a Syntax Error as 100 is not a valid variable name"
   ]
  },
  {
   "cell_type": "markdown",
   "id": "0065ea5b",
   "metadata": {},
   "source": [
    "### 9.What three functions can be used to get the integer,floating-point number,or string version of a value?"
   ]
  },
  {
   "cell_type": "raw",
   "id": "df7414c9",
   "metadata": {},
   "source": [
    "The int(),float(),and str() functions will evaluate to the integer,float,string version of the value passed to them, it's also used for type conversions."
   ]
  },
  {
   "cell_type": "code",
   "execution_count": 13,
   "id": "0ba403f3",
   "metadata": {},
   "outputs": [
    {
     "name": "stdout",
     "output_type": "stream",
     "text": [
      "int(10.0):  10\n",
      "float(10):  10.0\n",
      "str(10):  10\n"
     ]
    }
   ],
   "source": [
    "# Examples:\n",
    "print('int(10.0): ',int(10.0)) # int() function converts the given input to int\n",
    "print('float(10): ',float(10)) # float() function converts the given input to float\n",
    "print('str(10): ',str(10)) # str() function converts given the input to string"
   ]
  },
  {
   "cell_type": "markdown",
   "id": "3f4ec925",
   "metadata": {},
   "source": [
    "### 10. Why does this expression cause an error? How can you fix it?\n",
    "'I have eaten' + 99 + 'burritos'"
   ]
  },
  {
   "cell_type": "raw",
   "id": "0e4e5ad7",
   "metadata": {},
   "source": [
    "This cause of error is 99.because 99 is not a string value. 99 must be typecasted to a string value to fix this error. the correct way is:\n",
    "Input: 'I have eaten ' + str(99) + 'burritos.'\n",
    "Output: 'I have eaten 99 burritos.'"
   ]
  },
  {
   "cell_type": "code",
   "execution_count": 16,
   "id": "20a83505",
   "metadata": {},
   "outputs": [
    {
     "ename": "TypeError",
     "evalue": "can only concatenate str (not \"int\") to str",
     "output_type": "error",
     "traceback": [
      "\u001b[1;31m---------------------------------------------------------------------------\u001b[0m",
      "\u001b[1;31mTypeError\u001b[0m                                 Traceback (most recent call last)",
      "Input \u001b[1;32mIn [16]\u001b[0m, in \u001b[0;36m<cell line: 1>\u001b[1;34m()\u001b[0m\n\u001b[1;32m----> 1\u001b[0m \u001b[38;5;28mprint\u001b[39m(\u001b[38;5;124;43m'\u001b[39;49m\u001b[38;5;124;43mI have eaten \u001b[39;49m\u001b[38;5;124;43m'\u001b[39;49m\u001b[38;5;241;43m+\u001b[39;49m\u001b[38;5;241;43m99\u001b[39;49m\u001b[38;5;241m+\u001b[39m\u001b[38;5;124m'\u001b[39m\u001b[38;5;124m burritos\u001b[39m\u001b[38;5;124m'\u001b[39m)\n",
      "\u001b[1;31mTypeError\u001b[0m: can only concatenate str (not \"int\") to str"
     ]
    }
   ],
   "source": [
    "print('I have eaten '+99+' burritos')"
   ]
  },
  {
   "cell_type": "code",
   "execution_count": 17,
   "id": "87f84b75",
   "metadata": {},
   "outputs": [
    {
     "name": "stdout",
     "output_type": "stream",
     "text": [
      "I have eaten 99 burritos\n"
     ]
    }
   ],
   "source": [
    "print('I have eaten '+str(99)+' burritos')"
   ]
  },
  {
   "cell_type": "code",
   "execution_count": null,
   "id": "79beeecb",
   "metadata": {},
   "outputs": [],
   "source": []
  }
 ],
 "metadata": {
  "kernelspec": {
   "display_name": "Python 3 (ipykernel)",
   "language": "python",
   "name": "python3"
  },
  "language_info": {
   "codemirror_mode": {
    "name": "ipython",
    "version": 3
   },
   "file_extension": ".py",
   "mimetype": "text/x-python",
   "name": "python",
   "nbconvert_exporter": "python",
   "pygments_lexer": "ipython3",
   "version": "3.9.12"
  }
 },
 "nbformat": 4,
 "nbformat_minor": 5
}
